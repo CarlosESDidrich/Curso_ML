{
 "cells": [
  {
   "cell_type": "code",
   "execution_count": 1,
   "id": "e3a51e30-d601-4171-ba9a-515c9274a2e6",
   "metadata": {},
   "outputs": [
    {
     "data": {
      "text/html": [
       "<div>\n",
       "<style scoped>\n",
       "    .dataframe tbody tr th:only-of-type {\n",
       "        vertical-align: middle;\n",
       "    }\n",
       "\n",
       "    .dataframe tbody tr th {\n",
       "        vertical-align: top;\n",
       "    }\n",
       "\n",
       "    .dataframe thead th {\n",
       "        text-align: right;\n",
       "    }\n",
       "</style>\n",
       "<table border=\"1\" class=\"dataframe\">\n",
       "  <thead>\n",
       "    <tr style=\"text-align: right;\">\n",
       "      <th></th>\n",
       "      <th>Idade</th>\n",
       "      <th>Cor</th>\n",
       "      <th>Sexo</th>\n",
       "      <th>Regiao</th>\n",
       "      <th>Ocupacao</th>\n",
       "      <th>Renda</th>\n",
       "      <th>Escolaridade</th>\n",
       "      <th>Classe_Social</th>\n",
       "    </tr>\n",
       "  </thead>\n",
       "  <tbody>\n",
       "    <tr>\n",
       "      <th>0</th>\n",
       "      <td>37</td>\n",
       "      <td>4</td>\n",
       "      <td>2</td>\n",
       "      <td>4</td>\n",
       "      <td>9.0</td>\n",
       "      <td>3.0</td>\n",
       "      <td>1.0</td>\n",
       "      <td>4</td>\n",
       "    </tr>\n",
       "    <tr>\n",
       "      <th>1</th>\n",
       "      <td>31</td>\n",
       "      <td>4</td>\n",
       "      <td>1</td>\n",
       "      <td>4</td>\n",
       "      <td>9.0</td>\n",
       "      <td>3.0</td>\n",
       "      <td>2.0</td>\n",
       "      <td>4</td>\n",
       "    </tr>\n",
       "    <tr>\n",
       "      <th>2</th>\n",
       "      <td>45</td>\n",
       "      <td>1</td>\n",
       "      <td>2</td>\n",
       "      <td>4</td>\n",
       "      <td>9.0</td>\n",
       "      <td>3.0</td>\n",
       "      <td>5.0</td>\n",
       "      <td>4</td>\n",
       "    </tr>\n",
       "    <tr>\n",
       "      <th>3</th>\n",
       "      <td>20</td>\n",
       "      <td>1</td>\n",
       "      <td>1</td>\n",
       "      <td>4</td>\n",
       "      <td>9.0</td>\n",
       "      <td>3.0</td>\n",
       "      <td>2.0</td>\n",
       "      <td>4</td>\n",
       "    </tr>\n",
       "    <tr>\n",
       "      <th>4</th>\n",
       "      <td>8</td>\n",
       "      <td>1</td>\n",
       "      <td>1</td>\n",
       "      <td>4</td>\n",
       "      <td>9.0</td>\n",
       "      <td>3.0</td>\n",
       "      <td>2.0</td>\n",
       "      <td>4</td>\n",
       "    </tr>\n",
       "  </tbody>\n",
       "</table>\n",
       "</div>"
      ],
      "text/plain": [
       "   Idade  Cor  Sexo  Regiao  Ocupacao  Renda  Escolaridade  Classe_Social\n",
       "0     37    4     2       4       9.0    3.0           1.0              4\n",
       "1     31    4     1       4       9.0    3.0           2.0              4\n",
       "2     45    1     2       4       9.0    3.0           5.0              4\n",
       "3     20    1     1       4       9.0    3.0           2.0              4\n",
       "4      8    1     1       4       9.0    3.0           2.0              4"
      ]
     },
     "execution_count": 1,
     "metadata": {},
     "output_type": "execute_result"
    }
   ],
   "source": [
    "import pandas as pd\n",
    "pd.set_option('display.max_columns',21)\n",
    "dados = pd.read_excel('C:/Users/carlo/Documents\\Projetos/Machine Learning Funções/Banco de dados/Pnad21.xlsx')\n",
    "dados.head()"
   ]
  },
  {
   "cell_type": "code",
   "execution_count": 2,
   "id": "cd62a644-7e01-4696-8404-a478ba6d6d79",
   "metadata": {},
   "outputs": [],
   "source": [
    "import pandas as pd\n",
    "import numpy as np\n",
    "\n",
    "def clean_dataset(df):\n",
    "    assert isinstance(df, pd.DataFrame), \"df needs to be a pd.DataFrame\"\n",
    "    df.dropna(inplace=True)\n",
    "    indices_to_keep = ~df.isin([np.nan, np.inf, -np.inf]).any(axis=1)\n",
    "    return df[indices_to_keep].astype(np.int64)"
   ]
  },
  {
   "cell_type": "code",
   "execution_count": 3,
   "id": "929b89e6-059f-4ab7-852b-a7115e1ae7a2",
   "metadata": {},
   "outputs": [
    {
     "data": {
      "text/plain": [
       "Idade            int64\n",
       "Cor              int64\n",
       "Sexo             int64\n",
       "Regiao           int64\n",
       "Ocupacao         int64\n",
       "Renda            int64\n",
       "Escolaridade     int64\n",
       "Classe_Social    int64\n",
       "dtype: object"
      ]
     },
     "execution_count": 3,
     "metadata": {},
     "output_type": "execute_result"
    }
   ],
   "source": [
    "#Padroniza com int\n",
    "clean_dataset(dados)\n",
    "dados.astype('int64').dtypes"
   ]
  },
  {
   "cell_type": "code",
   "execution_count": 38,
   "id": "537327d8-61ac-44be-99ec-b1d8800fbfa7",
   "metadata": {},
   "outputs": [],
   "source": [
    "#Definindo váriaveis preditoras e variavel target\n",
    "y = dados['Classe_Social'] # Target\n",
    "x = dados.drop('Classe_Social', axis =1) # Preditoras"
   ]
  },
  {
   "cell_type": "code",
   "execution_count": 9,
   "id": "b0b9546a-650b-47e3-a749-bb63f366f256",
   "metadata": {},
   "outputs": [],
   "source": [
    "# Função com \n",
    "def Kmens(x,y,c):\n",
    "    from sklearn.cluster import KMeans\n",
    "        \n",
    "    # Aplicando modelo\n",
    "    kmeans = KMeans(n_clusters = c)# K= Qunatidade de melhores preditoras\n",
    "    kmeans.fit\n",
    "    #Treinos\n",
    "    kmeans.fit(x)\n",
    "\n",
    "    #Resultados\n",
    "    print(f'Scores:\\n{kmeans.cluster_centers_}')\n",
    " "
   ]
  },
  {
   "cell_type": "code",
   "execution_count": 12,
   "id": "7503c048-27b2-4bc7-b297-cf699eb5eed6",
   "metadata": {},
   "outputs": [
    {
     "name": "stdout",
     "output_type": "stream",
     "text": [
      "Scores:\n",
      "[[58.24456767  2.51900186  1.54462257  2.47227029  6.6677368   3.81282356\n",
      "   3.37191381]\n",
      " [22.59611819  2.75174717  1.50245436  2.64432585  6.72574166  3.47889132\n",
      "   3.71319055]]\n"
     ]
    }
   ],
   "source": [
    "Kmens(x,y,2)"
   ]
  }
 ],
 "metadata": {
  "kernelspec": {
   "display_name": "Python 3 (ipykernel)",
   "language": "python",
   "name": "python3"
  },
  "language_info": {
   "codemirror_mode": {
    "name": "ipython",
    "version": 3
   },
   "file_extension": ".py",
   "mimetype": "text/x-python",
   "name": "python",
   "nbconvert_exporter": "python",
   "pygments_lexer": "ipython3",
   "version": "3.10.9"
  }
 },
 "nbformat": 4,
 "nbformat_minor": 5
}
