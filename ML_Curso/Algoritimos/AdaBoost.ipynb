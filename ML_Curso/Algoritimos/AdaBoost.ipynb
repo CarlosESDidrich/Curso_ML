{
 "cells": [
  {
   "cell_type": "code",
   "execution_count": 2,
   "id": "1aea6821-9661-41f2-b850-1a778e6cbcea",
   "metadata": {},
   "outputs": [],
   "source": [
    "## Random forest\n",
    "import pandas as pd\n",
    "pd.set_option('display.max_columns',21)\n",
    "dados = pd.read_excel('C:/Users/Didrich/Documents/Python Scripts/Classe_Social/Banco de dados/Pnad21.xlsx')"
   ]
  },
  {
   "cell_type": "code",
   "execution_count": 3,
   "id": "bbc07d91-7d62-41e0-a238-b0f243e49dd5",
   "metadata": {},
   "outputs": [
    {
     "data": {
      "text/html": [
       "<div>\n",
       "<style scoped>\n",
       "    .dataframe tbody tr th:only-of-type {\n",
       "        vertical-align: middle;\n",
       "    }\n",
       "\n",
       "    .dataframe tbody tr th {\n",
       "        vertical-align: top;\n",
       "    }\n",
       "\n",
       "    .dataframe thead th {\n",
       "        text-align: right;\n",
       "    }\n",
       "</style>\n",
       "<table border=\"1\" class=\"dataframe\">\n",
       "  <thead>\n",
       "    <tr style=\"text-align: right;\">\n",
       "      <th></th>\n",
       "      <th>Idade</th>\n",
       "      <th>Cor</th>\n",
       "      <th>Sexo</th>\n",
       "      <th>Regiao</th>\n",
       "      <th>Ocupacao</th>\n",
       "      <th>Renda</th>\n",
       "      <th>Escolaridade</th>\n",
       "      <th>Classe_Social</th>\n",
       "    </tr>\n",
       "  </thead>\n",
       "  <tbody>\n",
       "    <tr>\n",
       "      <th>0</th>\n",
       "      <td>37</td>\n",
       "      <td>4</td>\n",
       "      <td>2</td>\n",
       "      <td>4</td>\n",
       "      <td>9.0</td>\n",
       "      <td>3.0</td>\n",
       "      <td>1.0</td>\n",
       "      <td>4</td>\n",
       "    </tr>\n",
       "    <tr>\n",
       "      <th>1</th>\n",
       "      <td>31</td>\n",
       "      <td>4</td>\n",
       "      <td>1</td>\n",
       "      <td>4</td>\n",
       "      <td>9.0</td>\n",
       "      <td>3.0</td>\n",
       "      <td>2.0</td>\n",
       "      <td>4</td>\n",
       "    </tr>\n",
       "    <tr>\n",
       "      <th>2</th>\n",
       "      <td>45</td>\n",
       "      <td>1</td>\n",
       "      <td>2</td>\n",
       "      <td>4</td>\n",
       "      <td>9.0</td>\n",
       "      <td>3.0</td>\n",
       "      <td>5.0</td>\n",
       "      <td>4</td>\n",
       "    </tr>\n",
       "    <tr>\n",
       "      <th>3</th>\n",
       "      <td>20</td>\n",
       "      <td>1</td>\n",
       "      <td>1</td>\n",
       "      <td>4</td>\n",
       "      <td>9.0</td>\n",
       "      <td>3.0</td>\n",
       "      <td>2.0</td>\n",
       "      <td>4</td>\n",
       "    </tr>\n",
       "    <tr>\n",
       "      <th>4</th>\n",
       "      <td>8</td>\n",
       "      <td>1</td>\n",
       "      <td>1</td>\n",
       "      <td>4</td>\n",
       "      <td>9.0</td>\n",
       "      <td>3.0</td>\n",
       "      <td>2.0</td>\n",
       "      <td>4</td>\n",
       "    </tr>\n",
       "  </tbody>\n",
       "</table>\n",
       "</div>"
      ],
      "text/plain": [
       "   Idade  Cor  Sexo  Regiao  Ocupacao  Renda  Escolaridade  Classe_Social\n",
       "0     37    4     2       4       9.0    3.0           1.0              4\n",
       "1     31    4     1       4       9.0    3.0           2.0              4\n",
       "2     45    1     2       4       9.0    3.0           5.0              4\n",
       "3     20    1     1       4       9.0    3.0           2.0              4\n",
       "4      8    1     1       4       9.0    3.0           2.0              4"
      ]
     },
     "execution_count": 3,
     "metadata": {},
     "output_type": "execute_result"
    }
   ],
   "source": [
    "dados.head()"
   ]
  },
  {
   "cell_type": "code",
   "execution_count": 4,
   "id": "b307084d-4c32-42c6-9923-27b3371985e9",
   "metadata": {},
   "outputs": [],
   "source": [
    "# Function Limpar Na\n",
    "import pandas as pd\n",
    "import numpy as np\n",
    "\n",
    "def clean_dataset(df):\n",
    "    assert isinstance(df, pd.DataFrame), \"df needs to be a pd.DataFrame\"\n",
    "    df.dropna(inplace=True)\n",
    "    indices_to_keep = ~df.isin([np.nan, np.inf, -np.inf]).any(axis=1)\n",
    "    return df[indices_to_keep].astype(np.int64)"
   ]
  },
  {
   "cell_type": "code",
   "execution_count": 5,
   "id": "7f6c0b85-59f0-48ab-9e13-11baf6bd93d9",
   "metadata": {},
   "outputs": [
    {
     "data": {
      "text/plain": [
       "Idade            int64\n",
       "Cor              int64\n",
       "Sexo             int64\n",
       "Regiao           int64\n",
       "Ocupacao         int64\n",
       "Renda            int64\n",
       "Escolaridade     int64\n",
       "Classe_Social    int64\n",
       "dtype: object"
      ]
     },
     "execution_count": 5,
     "metadata": {},
     "output_type": "execute_result"
    }
   ],
   "source": [
    "#Padroniza com int\n",
    "clean_dataset(dados)\n",
    "dados.astype('int64').dtypes"
   ]
  },
  {
   "cell_type": "code",
   "execution_count": 6,
   "id": "2fca83f4-3ca5-4f9c-b573-01d44db9fe56",
   "metadata": {},
   "outputs": [],
   "source": [
    "#Definindo váriaveis preditoras e variavel target\n",
    "y = dados['Classe_Social'] # Target\n",
    "x = dados.drop('Classe_Social', axis =1) # Preditoras"
   ]
  },
  {
   "cell_type": "code",
   "execution_count": 11,
   "id": "81def352-d27a-49a9-819e-38ab8fee66ae",
   "metadata": {},
   "outputs": [],
   "source": [
    "#Função Classifier \n",
    "def BaggingClassifier(x, y, n_kfold):\n",
    "    from sklearn.model_selection import cross_val_score\n",
    "    from sklearn.model_selection import KFold\n",
    "    from sklearn.ensemble import BaggingClassifier\n",
    "    \n",
    "    \n",
    "    #Modelo\n",
    "    bagging = BaggingClassifier() # Trocar parametros\n",
    "\n",
    "    #kfold  \n",
    "    kfold = KFold(n_splits = n_kfold)\n",
    "\n",
    " \n",
    "    #Treino Resultados\n",
    "    resul_bagging = cross_val_score(bagging,x,y, cv = kfold)\n",
    "\n",
    "    \n",
    "    #Printa Resultado\n",
    "    print(f'Decision Tree:{resul_bagging.mean()}')\n"
   ]
  },
  {
   "cell_type": "code",
   "execution_count": 12,
   "id": "435e9682-425b-4ad6-96fd-b99e0dca6313",
   "metadata": {},
   "outputs": [
    {
     "name": "stdout",
     "output_type": "stream",
     "text": [
      "Decision Tree:0.9792842990177656\n"
     ]
    }
   ],
   "source": [
    "BaggingClassifier(x,y,5)"
   ]
  }
 ],
 "metadata": {
  "kernelspec": {
   "display_name": "Python 3 (ipykernel)",
   "language": "python",
   "name": "python3"
  },
  "language_info": {
   "codemirror_mode": {
    "name": "ipython",
    "version": 3
   },
   "file_extension": ".py",
   "mimetype": "text/x-python",
   "name": "python",
   "nbconvert_exporter": "python",
   "pygments_lexer": "ipython3",
   "version": "3.10.9"
  }
 },
 "nbformat": 4,
 "nbformat_minor": 5
}
