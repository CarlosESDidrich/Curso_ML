{
 "cells": [
  {
   "cell_type": "code",
   "execution_count": 19,
   "id": "2fc40ae8-9f51-4f1e-b852-322590879247",
   "metadata": {},
   "outputs": [],
   "source": [
    "import pandas as pd\n",
    "pd.set_option('display.max_columns',21)\n",
    "dados = pd.read_excel('C:/Users/carlo/Documents\\Projetos/Machine Learning Funções/Banco de dados/Pnad21.xlsx')"
   ]
  },
  {
   "cell_type": "code",
   "execution_count": 45,
   "id": "3a563f04-3bf5-4b9e-912e-bf959db64c13",
   "metadata": {},
   "outputs": [
    {
     "data": {
      "text/html": [
       "<div>\n",
       "<style scoped>\n",
       "    .dataframe tbody tr th:only-of-type {\n",
       "        vertical-align: middle;\n",
       "    }\n",
       "\n",
       "    .dataframe tbody tr th {\n",
       "        vertical-align: top;\n",
       "    }\n",
       "\n",
       "    .dataframe thead th {\n",
       "        text-align: right;\n",
       "    }\n",
       "</style>\n",
       "<table border=\"1\" class=\"dataframe\">\n",
       "  <thead>\n",
       "    <tr style=\"text-align: right;\">\n",
       "      <th></th>\n",
       "      <th>Idade</th>\n",
       "      <th>Cor</th>\n",
       "      <th>Sexo</th>\n",
       "      <th>Regiao</th>\n",
       "      <th>Ocupacao</th>\n",
       "      <th>Renda</th>\n",
       "      <th>Escolaridade</th>\n",
       "      <th>Classe_Social</th>\n",
       "    </tr>\n",
       "  </thead>\n",
       "  <tbody>\n",
       "    <tr>\n",
       "      <th>0</th>\n",
       "      <td>37</td>\n",
       "      <td>4</td>\n",
       "      <td>2</td>\n",
       "      <td>4</td>\n",
       "      <td>9.0</td>\n",
       "      <td>3.0</td>\n",
       "      <td>1.0</td>\n",
       "      <td>4</td>\n",
       "    </tr>\n",
       "    <tr>\n",
       "      <th>1</th>\n",
       "      <td>31</td>\n",
       "      <td>4</td>\n",
       "      <td>1</td>\n",
       "      <td>4</td>\n",
       "      <td>9.0</td>\n",
       "      <td>3.0</td>\n",
       "      <td>2.0</td>\n",
       "      <td>4</td>\n",
       "    </tr>\n",
       "    <tr>\n",
       "      <th>2</th>\n",
       "      <td>45</td>\n",
       "      <td>1</td>\n",
       "      <td>2</td>\n",
       "      <td>4</td>\n",
       "      <td>9.0</td>\n",
       "      <td>3.0</td>\n",
       "      <td>5.0</td>\n",
       "      <td>4</td>\n",
       "    </tr>\n",
       "    <tr>\n",
       "      <th>3</th>\n",
       "      <td>20</td>\n",
       "      <td>1</td>\n",
       "      <td>1</td>\n",
       "      <td>4</td>\n",
       "      <td>9.0</td>\n",
       "      <td>3.0</td>\n",
       "      <td>2.0</td>\n",
       "      <td>4</td>\n",
       "    </tr>\n",
       "    <tr>\n",
       "      <th>4</th>\n",
       "      <td>8</td>\n",
       "      <td>1</td>\n",
       "      <td>1</td>\n",
       "      <td>4</td>\n",
       "      <td>9.0</td>\n",
       "      <td>3.0</td>\n",
       "      <td>2.0</td>\n",
       "      <td>4</td>\n",
       "    </tr>\n",
       "  </tbody>\n",
       "</table>\n",
       "</div>"
      ],
      "text/plain": [
       "   Idade  Cor  Sexo  Regiao  Ocupacao  Renda  Escolaridade  Classe_Social\n",
       "0     37    4     2       4       9.0    3.0           1.0              4\n",
       "1     31    4     1       4       9.0    3.0           2.0              4\n",
       "2     45    1     2       4       9.0    3.0           5.0              4\n",
       "3     20    1     1       4       9.0    3.0           2.0              4\n",
       "4      8    1     1       4       9.0    3.0           2.0              4"
      ]
     },
     "execution_count": 45,
     "metadata": {},
     "output_type": "execute_result"
    }
   ],
   "source": [
    "dados.head()"
   ]
  },
  {
   "cell_type": "code",
   "execution_count": 21,
   "id": "4d5b221f-470f-4a2e-9f9d-8bc2fced3669",
   "metadata": {},
   "outputs": [],
   "source": [
    "# Limpar Na\n",
    "import pandas as pd\n",
    "import numpy as np\n",
    "\n",
    "def clean_dataset(df):\n",
    "    assert isinstance(df, pd.DataFrame), \"df needs to be a pd.DataFrame\"\n",
    "    df.dropna(inplace=True)\n",
    "    indices_to_keep = ~df.isin([np.nan, np.inf, -np.inf]).any(axis=1)\n",
    "    return df[indices_to_keep].astype(np.int64)"
   ]
  },
  {
   "cell_type": "code",
   "execution_count": 26,
   "id": "58dd472c-35d6-4cf9-9515-235e02058a43",
   "metadata": {},
   "outputs": [
    {
     "data": {
      "text/plain": [
       "Idade            int64\n",
       "Cor              int64\n",
       "Sexo             int64\n",
       "Regiao           int64\n",
       "Ocupacao         int64\n",
       "Renda            int64\n",
       "Escolaridade     int64\n",
       "Classe_Social    int64\n",
       "dtype: object"
      ]
     },
     "execution_count": 26,
     "metadata": {},
     "output_type": "execute_result"
    }
   ],
   "source": [
    "clean_dataset(dados)\n",
    "dados.astype('int64').dtypes\n",
    "\n"
   ]
  },
  {
   "cell_type": "code",
   "execution_count": 39,
   "id": "1c3c72b4-24fb-43cf-8c8b-c924a4d27798",
   "metadata": {},
   "outputs": [],
   "source": [
    "#Definindo váriaveis preditoras e variavel target\n",
    "y = dados['Classe_Social'] # Target\n",
    "x = dados.drop('Classe_Social', axis =1) # Preditoras"
   ]
  },
  {
   "cell_type": "code",
   "execution_count": 62,
   "id": "f929c571-69ab-49a6-a820-a7221e45f59d",
   "metadata": {},
   "outputs": [],
   "source": [
    "# Função com os 4 modelos padrões\n",
    "def regressao(x,y):\n",
    "    from sklearn.linear_model import LinearRegression\n",
    "    from sklearn.linear_model import Ridge\n",
    "    from sklearn.linear_model import Lasso\n",
    "    from sklearn.linear_model import ElasticNet\n",
    "    from sklearn.linear_model import LogisticRegression\n",
    "    from sklearn.model_selection import train_test_split\n",
    "\n",
    "    # Separando os dados em treino e teste\n",
    "    x_treino, x_teste, y_treino, y_teste = train_test_split(x,y, test_size = 0.3)\n",
    "\n",
    "    #Modelos\n",
    "    reg = LinearRegression() # Trocar parametro\n",
    "    ridge = Ridge() # Trocar parametro\n",
    "    lasso = Lasso() # Trocar parametro\n",
    "    elastic = ElasticNet() # Trocar parametro\n",
    "    log = LogisticRegression(C = 100, penalty ='l2') # Trocar parametro\n",
    "\n",
    "    #Treinos\n",
    "    reg.fit(x_treino, y_treino)\n",
    "    ridge.fit(x_treino, y_treino)\n",
    "    lasso.fit(x_treino, y_treino)\n",
    "    elastic.fit(x_treino, y_treino)\n",
    "    log.fit(x_treino, y_treino)\n",
    "\n",
    "    #Resultados\n",
    "    resul_reg = reg.score(x_teste, y_teste)\n",
    "    resul_ridge = ridge.score(x_teste,y_teste)\n",
    "    resul_lasso = lasso.score(x_teste, y_teste)\n",
    "    resul_elastic = elastic.score(x_teste, y_teste)\n",
    "    resul_log = log.score(x_teste, y_teste)\n",
    "\n",
    "    print(f'Regressão Linear:{resul_reg},\\n Regressão Ridge:{resul_ridge},\\n Regressão Lasso:{resul_lasso},\\n Regressão ElasticNet {resul_elastic}, \\n Regressão Logistica:{resul_log}')\n",
    "\n",
    "                     "
   ]
  },
  {
   "cell_type": "code",
   "execution_count": 63,
   "id": "751a4b8b-b612-4ab7-81a9-618d3a7e1d5b",
   "metadata": {},
   "outputs": [
    {
     "name": "stdout",
     "output_type": "stream",
     "text": [
      "Regressão Linear:0.5799567659758644,\n",
      " Regressão Ridge:0.5799567626583603,\n",
      " Regressão Lasso:0.4830705409740863,\n",
      " Regressão ElasticNet 0.5219890099149089, \n",
      " Regressão Logistica:0.8951352851987101\n"
     ]
    },
    {
     "name": "stderr",
     "output_type": "stream",
     "text": [
      "C:\\Users\\carlo\\anaconda3\\lib\\site-packages\\sklearn\\linear_model\\_logistic.py:814: ConvergenceWarning: lbfgs failed to converge (status=1):\n",
      "STOP: TOTAL NO. of ITERATIONS REACHED LIMIT.\n",
      "\n",
      "Increase the number of iterations (max_iter) or scale the data as shown in:\n",
      "    https://scikit-learn.org/stable/modules/preprocessing.html\n",
      "Please also refer to the documentation for alternative solver options:\n",
      "    https://scikit-learn.org/stable/modules/linear_model.html#logistic-regression\n",
      "  n_iter_i = _check_optimize_result(\n"
     ]
    }
   ],
   "source": [
    "regressao(x,y)"
   ]
  },
  {
   "cell_type": "code",
   "execution_count": 53,
   "id": "2df00e1e-01f1-4f03-b6ce-581493479354",
   "metadata": {},
   "outputs": [],
   "source": [
    "# Usando metodo de Kfold\n",
    "def regressaoKfold(x, y, n_kfold):\n",
    "    from sklearn.model_selection import cross_val_score\n",
    "    from sklearn.model_selection import KFold\n",
    "    from sklearn.linear_model import LinearRegression\n",
    "    from sklearn.linear_model import Ridge\n",
    "    from sklearn.linear_model import Lasso\n",
    "    from sklearn.linear_model import ElasticNet\n",
    "    from sklearn.linear_model import LogisticRegression\n",
    "    \n",
    "\n",
    "    #Modelos\n",
    "    reg = LinearRegression() # Trocar parametro\n",
    "    ridge = Ridge() # Trocar parametro\n",
    "    lasso = Lasso() # Trocar parametro\n",
    "    elastic = ElasticNet() # Trocar parametro\n",
    "    log = LogisticRegression(C = 100,penalty ='l2') # Trocar parametros\n",
    "\n",
    "    #kfold  \n",
    "    kfold = KFold(n_splits = n_kfold)\n",
    "\n",
    " \n",
    "    #Treino Resultados\n",
    "    resul_reg = cross_val_score(reg,x,y, cv = kfold)\n",
    "    resul_ridge = cross_val_score(ridge,x,y, cv = kfold)\n",
    "    resul_lasso = cross_val_score(lasso,x,y, cv = kfold)\n",
    "    resul_elastic = cross_val_score(elastic,x,y, cv = kfold)\n",
    "    resul_log = cross_val_score(log,x,y, cv = kfold)\n",
    "    \n",
    "    print(f'Regressão Linear:{resul_reg.mean()},\\n Regressão Ridge:{resul_ridge.mean()},\\n Regressão Lasso:{resul_lasso.mean()},\\n Regressão ElasticNet {resul_elastic.mean()}, \\n Regressão Logistica:{resul_log.mean()}')\n",
    "\n",
    "                     "
   ]
  },
  {
   "cell_type": "code",
   "execution_count": 54,
   "id": "2a1658f4-cf76-4a9e-80be-4c8ffc272f9e",
   "metadata": {},
   "outputs": [
    {
     "name": "stderr",
     "output_type": "stream",
     "text": [
      "C:\\Users\\carlo\\anaconda3\\lib\\site-packages\\sklearn\\linear_model\\_logistic.py:814: ConvergenceWarning: lbfgs failed to converge (status=1):\n",
      "STOP: TOTAL NO. of ITERATIONS REACHED LIMIT.\n",
      "\n",
      "Increase the number of iterations (max_iter) or scale the data as shown in:\n",
      "    https://scikit-learn.org/stable/modules/preprocessing.html\n",
      "Please also refer to the documentation for alternative solver options:\n",
      "    https://scikit-learn.org/stable/modules/linear_model.html#logistic-regression\n",
      "  n_iter_i = _check_optimize_result(\n",
      "C:\\Users\\carlo\\anaconda3\\lib\\site-packages\\sklearn\\linear_model\\_logistic.py:814: ConvergenceWarning: lbfgs failed to converge (status=1):\n",
      "STOP: TOTAL NO. of ITERATIONS REACHED LIMIT.\n",
      "\n",
      "Increase the number of iterations (max_iter) or scale the data as shown in:\n",
      "    https://scikit-learn.org/stable/modules/preprocessing.html\n",
      "Please also refer to the documentation for alternative solver options:\n",
      "    https://scikit-learn.org/stable/modules/linear_model.html#logistic-regression\n",
      "  n_iter_i = _check_optimize_result(\n",
      "C:\\Users\\carlo\\anaconda3\\lib\\site-packages\\sklearn\\linear_model\\_logistic.py:814: ConvergenceWarning: lbfgs failed to converge (status=1):\n",
      "STOP: TOTAL NO. of ITERATIONS REACHED LIMIT.\n",
      "\n",
      "Increase the number of iterations (max_iter) or scale the data as shown in:\n",
      "    https://scikit-learn.org/stable/modules/preprocessing.html\n",
      "Please also refer to the documentation for alternative solver options:\n",
      "    https://scikit-learn.org/stable/modules/linear_model.html#logistic-regression\n",
      "  n_iter_i = _check_optimize_result(\n",
      "C:\\Users\\carlo\\anaconda3\\lib\\site-packages\\sklearn\\linear_model\\_logistic.py:814: ConvergenceWarning: lbfgs failed to converge (status=1):\n",
      "STOP: TOTAL NO. of ITERATIONS REACHED LIMIT.\n",
      "\n",
      "Increase the number of iterations (max_iter) or scale the data as shown in:\n",
      "    https://scikit-learn.org/stable/modules/preprocessing.html\n",
      "Please also refer to the documentation for alternative solver options:\n",
      "    https://scikit-learn.org/stable/modules/linear_model.html#logistic-regression\n",
      "  n_iter_i = _check_optimize_result(\n"
     ]
    },
    {
     "name": "stdout",
     "output_type": "stream",
     "text": [
      "Regressão Linear:0.573795350261237,\n",
      " Regressão Ridge:0.5737953594996871,\n",
      " Regressão Lasso:0.4785027956807057,\n",
      " Regressão ElasticNet 0.5175540507697971, \n",
      " Regressão Logistica:0.8922187451398941\n"
     ]
    },
    {
     "name": "stderr",
     "output_type": "stream",
     "text": [
      "C:\\Users\\carlo\\anaconda3\\lib\\site-packages\\sklearn\\linear_model\\_logistic.py:814: ConvergenceWarning: lbfgs failed to converge (status=1):\n",
      "STOP: TOTAL NO. of ITERATIONS REACHED LIMIT.\n",
      "\n",
      "Increase the number of iterations (max_iter) or scale the data as shown in:\n",
      "    https://scikit-learn.org/stable/modules/preprocessing.html\n",
      "Please also refer to the documentation for alternative solver options:\n",
      "    https://scikit-learn.org/stable/modules/linear_model.html#logistic-regression\n",
      "  n_iter_i = _check_optimize_result(\n"
     ]
    }
   ],
   "source": [
    "regressaoKfold(x,y,5)"
   ]
  }
 ],
 "metadata": {
  "kernelspec": {
   "display_name": "Python 3 (ipykernel)",
   "language": "python",
   "name": "python3"
  },
  "language_info": {
   "codemirror_mode": {
    "name": "ipython",
    "version": 3
   },
   "file_extension": ".py",
   "mimetype": "text/x-python",
   "name": "python",
   "nbconvert_exporter": "python",
   "pygments_lexer": "ipython3",
   "version": "3.9.13"
  }
 },
 "nbformat": 4,
 "nbformat_minor": 5
}
