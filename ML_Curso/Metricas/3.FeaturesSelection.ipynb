{
 "cells": [
  {
   "cell_type": "code",
   "execution_count": 2,
   "id": "49340d8d-74a5-4d30-bab9-65785634606c",
   "metadata": {},
   "outputs": [
    {
     "data": {
      "text/html": [
       "<div>\n",
       "<style scoped>\n",
       "    .dataframe tbody tr th:only-of-type {\n",
       "        vertical-align: middle;\n",
       "    }\n",
       "\n",
       "    .dataframe tbody tr th {\n",
       "        vertical-align: top;\n",
       "    }\n",
       "\n",
       "    .dataframe thead th {\n",
       "        text-align: right;\n",
       "    }\n",
       "</style>\n",
       "<table border=\"1\" class=\"dataframe\">\n",
       "  <thead>\n",
       "    <tr style=\"text-align: right;\">\n",
       "      <th></th>\n",
       "      <th>Idade</th>\n",
       "      <th>Cor</th>\n",
       "      <th>Sexo</th>\n",
       "      <th>Regiao</th>\n",
       "      <th>Ocupacao</th>\n",
       "      <th>Renda</th>\n",
       "      <th>Escolaridade</th>\n",
       "      <th>Classe_Social</th>\n",
       "    </tr>\n",
       "  </thead>\n",
       "  <tbody>\n",
       "    <tr>\n",
       "      <th>0</th>\n",
       "      <td>37</td>\n",
       "      <td>4</td>\n",
       "      <td>2</td>\n",
       "      <td>4</td>\n",
       "      <td>9.0</td>\n",
       "      <td>3.0</td>\n",
       "      <td>1.0</td>\n",
       "      <td>4</td>\n",
       "    </tr>\n",
       "    <tr>\n",
       "      <th>1</th>\n",
       "      <td>31</td>\n",
       "      <td>4</td>\n",
       "      <td>1</td>\n",
       "      <td>4</td>\n",
       "      <td>9.0</td>\n",
       "      <td>3.0</td>\n",
       "      <td>2.0</td>\n",
       "      <td>4</td>\n",
       "    </tr>\n",
       "    <tr>\n",
       "      <th>2</th>\n",
       "      <td>45</td>\n",
       "      <td>1</td>\n",
       "      <td>2</td>\n",
       "      <td>4</td>\n",
       "      <td>9.0</td>\n",
       "      <td>3.0</td>\n",
       "      <td>5.0</td>\n",
       "      <td>4</td>\n",
       "    </tr>\n",
       "    <tr>\n",
       "      <th>3</th>\n",
       "      <td>20</td>\n",
       "      <td>1</td>\n",
       "      <td>1</td>\n",
       "      <td>4</td>\n",
       "      <td>9.0</td>\n",
       "      <td>3.0</td>\n",
       "      <td>2.0</td>\n",
       "      <td>4</td>\n",
       "    </tr>\n",
       "    <tr>\n",
       "      <th>4</th>\n",
       "      <td>8</td>\n",
       "      <td>1</td>\n",
       "      <td>1</td>\n",
       "      <td>4</td>\n",
       "      <td>9.0</td>\n",
       "      <td>3.0</td>\n",
       "      <td>2.0</td>\n",
       "      <td>4</td>\n",
       "    </tr>\n",
       "  </tbody>\n",
       "</table>\n",
       "</div>"
      ],
      "text/plain": [
       "   Idade  Cor  Sexo  Regiao  Ocupacao  Renda  Escolaridade  Classe_Social\n",
       "0     37    4     2       4       9.0    3.0           1.0              4\n",
       "1     31    4     1       4       9.0    3.0           2.0              4\n",
       "2     45    1     2       4       9.0    3.0           5.0              4\n",
       "3     20    1     1       4       9.0    3.0           2.0              4\n",
       "4      8    1     1       4       9.0    3.0           2.0              4"
      ]
     },
     "execution_count": 2,
     "metadata": {},
     "output_type": "execute_result"
    }
   ],
   "source": [
    "import pandas as pd\n",
    "pd.set_option('display.max_columns',21)\n",
    "dados = pd.read_excel('C:/Users/carlo/Documents\\Projetos/Machine Learning Funções/Banco de dados/Pnad21.xlsx')\n",
    "dados.head()"
   ]
  },
  {
   "cell_type": "code",
   "execution_count": 3,
   "id": "04ae25b5-0b55-46cb-a294-b644e2f34032",
   "metadata": {},
   "outputs": [],
   "source": [
    "# Function Limpar Na\n",
    "import pandas as pd\n",
    "import numpy as np\n",
    "\n",
    "def clean_dataset(df):\n",
    "    assert isinstance(df, pd.DataFrame), \"df needs to be a pd.DataFrame\"\n",
    "    df.dropna(inplace=True)\n",
    "    indices_to_keep = ~df.isin([np.nan, np.inf, -np.inf]).any(axis=1)\n",
    "    return df[indices_to_keep].astype(np.int64)"
   ]
  },
  {
   "cell_type": "code",
   "execution_count": 4,
   "id": "2de8618b-d539-46b4-94b5-ee42faf4675b",
   "metadata": {},
   "outputs": [
    {
     "data": {
      "text/plain": [
       "Idade            int64\n",
       "Cor              int64\n",
       "Sexo             int64\n",
       "Regiao           int64\n",
       "Ocupacao         int64\n",
       "Renda            int64\n",
       "Escolaridade     int64\n",
       "Classe_Social    int64\n",
       "dtype: object"
      ]
     },
     "execution_count": 4,
     "metadata": {},
     "output_type": "execute_result"
    }
   ],
   "source": [
    "#Padroniza com int\n",
    "clean_dataset(dados)\n",
    "dados.astype('int64').dtypes"
   ]
  },
  {
   "cell_type": "code",
   "execution_count": 6,
   "id": "3fb2cc80-6d1a-4fd3-b425-d59a2c7f0c27",
   "metadata": {},
   "outputs": [],
   "source": [
    "#Definindo váriaveis preditoras e variavel target\n",
    "y = dados['Classe_Social'] # Target\n",
    "x = dados.drop('Classe_Social', axis =1) # Preditoras"
   ]
  },
  {
   "cell_type": "code",
   "execution_count": 19,
   "id": "13362217-5357-45e5-90ee-6a4a891fed4f",
   "metadata": {},
   "outputs": [],
   "source": [
    "# Função com \n",
    "def Chi2(x,y):\n",
    "    from sklearn.feature_selection import SelectKBest\n",
    "    from sklearn.feature_selection import chi2\n",
    "        \n",
    "    # Aplicando modelo\n",
    "    algoritmo = SelectKBest (score_func = chi2, k=2) # K= Qunatidade de melhores preditoras\n",
    "    \n",
    "    #Treinos\n",
    "    best_preditora = algoritmo.fit_transform(x,y)\n",
    "\n",
    "    #Resultados\n",
    "    print(f'Scores:{algoritmo.scores_}')\n",
    "    print(f'Resultado da transformação:\\n{best_preditora}')"
   ]
  },
  {
   "cell_type": "code",
   "execution_count": 20,
   "id": "dee5ab6f-c655-4ffa-bc00-d1d83def80d7",
   "metadata": {},
   "outputs": [
    {
     "name": "stdout",
     "output_type": "stream",
     "text": [
      "Scores:[1.60841545e+04 2.36967277e+03 2.24172890e+03 3.68580490e+02\n",
      " 3.75067843e+05 1.25169552e+04 8.64958730e+04]\n",
      "Resultado da transformação:\n",
      "[[9. 1.]\n",
      " [9. 2.]\n",
      " [9. 5.]\n",
      " ...\n",
      " [9. 1.]\n",
      " [9. 4.]\n",
      " [9. 5.]]\n"
     ]
    }
   ],
   "source": [
    "Chi2(x,y)"
   ]
  },
  {
   "cell_type": "code",
   "execution_count": 17,
   "id": "89819ff2-ef94-4e1c-8296-b52b29bda642",
   "metadata": {},
   "outputs": [],
   "source": [
    "# Função com \n",
    "def f_classif(x,y):\n",
    "    from sklearn.feature_selection import SelectKBest\n",
    "    from sklearn.feature_selection import f_classif\n",
    "        \n",
    "    # Aplicando modelo\n",
    "    algoritmo = SelectKBest (score_func = f_classif, k=2) # K= Qunatidade de melhores preditoras\n",
    "    \n",
    "    #Treinos\n",
    "    best_preditora = algoritmo.fit_transform(x,y)\n",
    "\n",
    "    #Resultados\n",
    "    print(f'Scores:{algoritmo.scores_}')\n",
    "    print(f'Resultado da transformação:\\n{best_preditora}')"
   ]
  },
  {
   "cell_type": "code",
   "execution_count": 18,
   "id": "49c55617-cbd0-453e-b9ac-55811b06d0b0",
   "metadata": {},
   "outputs": [
    {
     "name": "stdout",
     "output_type": "stream",
     "text": [
      "Scores:[4.76042582e+02 1.01986234e+03 4.76633155e+03 2.07764559e+02\n",
      " 7.83368551e+05 1.78601003e+04 3.89391427e+04]\n",
      "Resultado da transformação:\n",
      "[[9. 1.]\n",
      " [9. 2.]\n",
      " [9. 5.]\n",
      " ...\n",
      " [9. 1.]\n",
      " [9. 4.]\n",
      " [9. 5.]]\n"
     ]
    }
   ],
   "source": [
    "f_classif(x,y)"
   ]
  },
  {
   "cell_type": "code",
   "execution_count": 7,
   "id": "c16bf535-8219-4432-be4d-c8e58efeda04",
   "metadata": {},
   "outputs": [],
   "source": [
    "# Função com \n",
    "def f_classif(x,y):\n",
    "    from sklearn.feature_selection import RFE\n",
    "    from sklearn.linear_model import Ridge\n",
    "    from sklearn.tree import DecisionTreeClassifier\n",
    "\n",
    "        \n",
    "    # Aplicando modelo\n",
    "    modelo = DecisionTreeClassifier()# escolha o modelo de machine learning\n",
    "    \n",
    "    #RFE\n",
    "    rfe = RFE(estimator = modelo, n_features_to_select = 1)\n",
    "    fit = rfe.fit(x,y)\n",
    "    \n",
    "    #Resultados\n",
    "    print(f'Número de variáveis:{fit.n_features_}')\n",
    "    print(f'Atributos selecionados:{fit.support_}')\n",
    "    print(f'Ranking dos Atributos:{fit.ranking_}')"
   ]
  },
  {
   "cell_type": "code",
   "execution_count": 8,
   "id": "f72cb4c0-4af8-4ac4-9e63-8e75c79e5120",
   "metadata": {},
   "outputs": [
    {
     "name": "stdout",
     "output_type": "stream",
     "text": [
      "Número de variáveis:1\n",
      "Atributos selecionados:[False False False False  True False False]\n",
      "Ranking dos Atributos:[3 5 7 4 1 6 2]\n"
     ]
    }
   ],
   "source": [
    "f_classif(x,y)"
   ]
  }
 ],
 "metadata": {
  "kernelspec": {
   "display_name": "Python 3 (ipykernel)",
   "language": "python",
   "name": "python3"
  },
  "language_info": {
   "codemirror_mode": {
    "name": "ipython",
    "version": 3
   },
   "file_extension": ".py",
   "mimetype": "text/x-python",
   "name": "python",
   "nbconvert_exporter": "python",
   "pygments_lexer": "ipython3",
   "version": "3.9.13"
  }
 },
 "nbformat": 4,
 "nbformat_minor": 5
}
