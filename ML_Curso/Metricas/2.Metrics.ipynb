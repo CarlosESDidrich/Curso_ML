{
 "cells": [
  {
   "cell_type": "code",
   "execution_count": null,
   "id": "cf1a6437-6fda-40f9-8c3a-4156efe6f000",
   "metadata": {},
   "outputs": [],
   "source": [
    "#Matriz de confusão modelo\n",
    "from sklearn.metrics import confusion_matrix\n",
    "import numpy as np\n",
    "from sklearn.linear_model import LogisticRegression\n",
    "    \n",
    "log = LogisticRegression(C = 91,penalty ='l2')\n",
    "log.fit(x_treino, y_treino)\n",
    "\n",
    "\n",
    "predicao = log.predict(x_teste)\n",
    "matriz = confusion_matrix(y_teste, predicao)\n",
    "\n",
    "print(matriz)"
   ]
  },
  {
   "cell_type": "code",
   "execution_count": null,
   "id": "99d21fea-920a-4224-8ddb-3110d4b2ce15",
   "metadata": {},
   "outputs": [],
   "source": [
    "#Roc modelo\n",
    "from sklearn.metrics import roc_curve\n",
    "import numpy as np\n",
    "from sklearn.linear_model import LogisticRegression\n",
    "    \n",
    "log = LogisticRegression(C = 91,penalty ='l2')\n",
    "log.fit(x_treino, y_treino)\n",
    "\n",
    "\n",
    "predicao = log.predict(x_teste)\n",
    "fpr,tpr,thresholds = roc_curve(y_teste, predicao)\n",
    "\n",
    "print('TPR:',tpr)\n",
    "print('FPR:',fpr)\n",
    "print('Thresholds:',thresholds)"
   ]
  }
 ],
 "metadata": {
  "kernelspec": {
   "display_name": "Python 3 (ipykernel)",
   "language": "python",
   "name": "python3"
  },
  "language_info": {
   "codemirror_mode": {
    "name": "ipython",
    "version": 3
   },
   "file_extension": ".py",
   "mimetype": "text/x-python",
   "name": "python",
   "nbconvert_exporter": "python",
   "pygments_lexer": "ipython3",
   "version": "3.9.13"
  }
 },
 "nbformat": 4,
 "nbformat_minor": 5
}
