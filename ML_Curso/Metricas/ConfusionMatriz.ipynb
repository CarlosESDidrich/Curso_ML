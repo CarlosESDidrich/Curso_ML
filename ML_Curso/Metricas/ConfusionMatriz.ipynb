{
 "cells": [
  {
   "cell_type": "code",
   "execution_count": 2,
   "id": "63c2a407-6297-454d-bc1d-a1ec9e18439f",
   "metadata": {},
   "outputs": [],
   "source": [
    "### Modelo de matriz de confusão\n",
    "def MatrizConfusão(x, y):\n",
    "    import numpy as np\n",
    "    import matplotlib.pyplot as plt\n",
    "\n",
    "    from sklearn.model_selection import train_test_split\n",
    "    from sklearn.metrics import ConfusionMatrixDisplay\n",
    "    \n",
    "    #Modelos \n",
    "    from sklearn.tree import DecisionTreeClassifier\n",
    "    from sklearn.ensemble import ExtraTreesClassifier\n",
    "\n",
    "    # Nomeias as variaveis\n",
    "    class_names = [\"trabalhadores manuais\",\"média alta\",\"média baixa\",\" Não trabalha\"]\n",
    "\n",
    "    # Separa em treio e test\n",
    "    X_train, X_test, y_train, y_test = train_test_split(x, y, random_state=0)\n",
    "\n",
    "    # Treina o modelo    \n",
    "    modelo= DecisionTreeClassifier()\n",
    "    classifier = modelo.fit(X_train, y_train)\n",
    "\n",
    "    # Resultado do modelo\n",
    "    score = classifier.score(X_test, y_test)\n",
    "    print(f'Modelo:{score}\\n')\n",
    "    \n",
    "    \n",
    "    \n",
    "    # Plot non-normalized confusion matrix\n",
    "    titles_options = [\n",
    "        (\"Confusion matrix, Quantidade\", None),\n",
    "        (\"\\nConfusion matrix, Porcentagem\", \"true\"),\n",
    "    ]\n",
    "    for title, normalize in titles_options:\n",
    "        disp = ConfusionMatrixDisplay.from_estimator(\n",
    "            classifier,\n",
    "            X_test,\n",
    "            y_test,\n",
    "            display_labels=class_names,\n",
    "            cmap=plt.cm.Blues,\n",
    "            normalize=normalize,\n",
    "        )\n",
    "        disp.ax_.set_title(title)\n",
    "\n",
    "        print(title)\n",
    "        print(disp.confusion_matrix)\n",
    "\n",
    "    plt.show()"
   ]
  },
  {
   "cell_type": "code",
   "execution_count": 1,
   "id": "8d493cc0-941a-4a6d-aaf4-a69a5f4b911f",
   "metadata": {},
   "outputs": [
    {
     "ename": "NameError",
     "evalue": "name 'MatrizConfusão' is not defined",
     "output_type": "error",
     "traceback": [
      "\u001b[1;31m---------------------------------------------------------------------------\u001b[0m",
      "\u001b[1;31mNameError\u001b[0m                                 Traceback (most recent call last)",
      "\u001b[1;32m~\\AppData\\Local\\Temp\\ipykernel_16184\\2189138040.py\u001b[0m in \u001b[0;36m<module>\u001b[1;34m\u001b[0m\n\u001b[1;32m----> 1\u001b[1;33m \u001b[0mMatrizConfusão\u001b[0m\u001b[1;33m(\u001b[0m\u001b[0mx\u001b[0m\u001b[1;33m,\u001b[0m\u001b[0my\u001b[0m\u001b[1;33m)\u001b[0m\u001b[1;33m\u001b[0m\u001b[1;33m\u001b[0m\u001b[0m\n\u001b[0m",
      "\u001b[1;31mNameError\u001b[0m: name 'MatrizConfusão' is not defined"
     ]
    }
   ],
   "source": [
    "MatrizConfusão(x,y)"
   ]
  }
 ],
 "metadata": {
  "kernelspec": {
   "display_name": "Python 3 (ipykernel)",
   "language": "python",
   "name": "python3"
  },
  "language_info": {
   "codemirror_mode": {
    "name": "ipython",
    "version": 3
   },
   "file_extension": ".py",
   "mimetype": "text/x-python",
   "name": "python",
   "nbconvert_exporter": "python",
   "pygments_lexer": "ipython3",
   "version": "3.9.13"
  }
 },
 "nbformat": 4,
 "nbformat_minor": 5
}
